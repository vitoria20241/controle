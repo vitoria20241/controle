{
 "cells": [
  {
   "cell_type": "markdown",
   "id": "4d51d428-ab7c-483c-874a-da612e95a78c",
   "metadata": {},
   "source": [
    "# Atividade 1 \n",
    "## Etapa 3\n",
    "Gerar números aleatórios que representem a atividade industrial (ex: toneladas de cimento produzido). Utilize alguma indústria do estado para basear seus códigos. "
   ]
  },
  {
   "cell_type": "markdown",
   "id": "6fab3f4b-049a-4686-a53d-652630d46088",
   "metadata": {},
   "source": [
    "Com base nos dados da EPAGRI dos anos de 2020 a 2022 a respeito da produção anual de pinhão em Santa Catarina, \n",
    "será simulada a produção até 2070 com o auxílio da simulação de Monte-Carlo.\n",
    "Referência: https://docweb.epagri.sc.gov.br/website_cepa/publicacoes/Indicadores_Desempenho_Agronegocio_2022.pdf "
   ]
  },
  {
   "cell_type": "code",
   "execution_count": 4,
   "id": "29a37085-60c9-4f41-b1cd-cb01e9132024",
   "metadata": {},
   "outputs": [
    {
     "name": "stdout",
     "output_type": "stream",
     "text": [
      "[0.36896442 0.49919791 0.23280736 0.17067682 0.70823688 0.82916312\n",
      " 0.42796372 0.82792865 0.04325476 0.90147096 0.1196528  0.06468875\n",
      " 0.30049971 0.54254468 0.29490901 0.85205825 0.56885646 0.23926411\n",
      " 0.71003637 0.04281514 0.61509127 0.75006548 0.02050042 0.73897025\n",
      " 0.05130017 0.93734775 0.79216588 0.88648143 0.07870675 0.99006827\n",
      " 0.16898546 0.75766871 0.04336266 0.53564651 0.04266889 0.51989629\n",
      " 0.3770824  0.81310232 0.95435614 0.21282404 0.77080766 0.87219087\n",
      " 0.10259447 0.11036485 0.98885903 0.31832908 0.03133152 0.3601589 ]\n"
     ]
    }
   ],
   "source": [
    "import numpy as np\n",
    "import pandas as pd\n",
    "import matplotlib.pyplot as plt\n",
    "\n",
    "#Dados iniciais\n",
    "dadosEPAGRI = [2537, 3916, 4738]\n",
    "\n",
    "# Lista de dados aleatórios\n",
    "data = np.random.rand(48)\n",
    "print(data) "
   ]
  },
  {
   "cell_type": "code",
   "execution_count": 5,
   "id": "88dbaebe-4082-43db-89a9-96ead2c9c489",
   "metadata": {},
   "outputs": [
    {
     "name": "stdout",
     "output_type": "stream",
     "text": [
      "[3349.09068021 3635.73460855 3049.40898892 2912.65968424 4095.82937645\n",
      " 4361.98802456 3478.94814349 4359.27094922 2632.20371904 4521.13758334\n",
      " 2800.35580739 2679.37994256 3198.39985112 3731.14083121 3186.09473472\n",
      " 4412.38020934 3789.05306557 3063.62031473 4099.79004661 2631.23612376\n",
      " 3890.81589509 4187.89411841 2582.12141567 4163.47353043 2649.91168485\n",
      " 4600.10240008 4280.55711165 4488.14562701 2710.23356135 4716.14026859\n",
      " 2908.93700042 4204.62882754 2632.44120607 3715.95796749 2630.91423651\n",
      " 3681.29174403 3366.95835612 4326.63820178 4637.53786865 3005.42571954\n",
      " 4233.54765781 4456.69210977 2762.81042684 2779.91303792 4713.47872118\n",
      " 3237.64230139 2605.96067026 3329.70974748]\n"
     ]
    }
   ],
   "source": [
    "#Monte-Carlo para simular valores\n",
    "Max = max(dadosEPAGRI)\n",
    "Min = min(dadosEPAGRI)\n",
    "data = (Max-Min)*data + Min\n",
    "print(data) "
   ]
  },
  {
   "cell_type": "code",
   "execution_count": 6,
   "id": "19f0bbd8-9b5e-4174-8d32-e1fd74cd8882",
   "metadata": {},
   "outputs": [
    {
     "name": "stdout",
     "output_type": "stream",
     "text": [
      "       Ano  Produção de pinhão (t)\n",
      "Ano                               \n",
      "2023  2023             3349.090680\n",
      "2024  2024             3635.734609\n",
      "2025  2025             3049.408989\n",
      "2026  2026             2912.659684\n",
      "2027  2027             4095.829376\n",
      "2028  2028             4361.988025\n",
      "2029  2029             3478.948143\n",
      "2030  2030             4359.270949\n",
      "2031  2031             2632.203719\n",
      "2032  2032             4521.137583\n",
      "2033  2033             2800.355807\n",
      "2034  2034             2679.379943\n",
      "2035  2035             3198.399851\n",
      "2036  2036             3731.140831\n",
      "2037  2037             3186.094735\n",
      "2038  2038             4412.380209\n",
      "2039  2039             3789.053066\n",
      "2040  2040             3063.620315\n",
      "2041  2041             4099.790047\n",
      "2042  2042             2631.236124\n",
      "2043  2043             3890.815895\n",
      "2044  2044             4187.894118\n",
      "2045  2045             2582.121416\n",
      "2046  2046             4163.473530\n",
      "2047  2047             2649.911685\n",
      "2048  2048             4600.102400\n",
      "2049  2049             4280.557112\n",
      "2050  2050             4488.145627\n",
      "2051  2051             2710.233561\n",
      "2052  2052             4716.140269\n",
      "2053  2053             2908.937000\n",
      "2054  2054             4204.628828\n",
      "2055  2055             2632.441206\n",
      "2056  2056             3715.957967\n",
      "2057  2057             2630.914237\n",
      "2058  2058             3681.291744\n",
      "2059  2059             3366.958356\n",
      "2060  2060             4326.638202\n",
      "2061  2061             4637.537869\n",
      "2062  2062             3005.425720\n",
      "2063  2063             4233.547658\n",
      "2064  2064             4456.692110\n",
      "2065  2065             2762.810427\n",
      "2066  2066             2779.913038\n",
      "2067  2067             4713.478721\n",
      "2068  2068             3237.642301\n",
      "2069  2069             2605.960670\n",
      "2070  2070             3329.709747\n"
     ]
    }
   ],
   "source": [
    "#Resultados da simulação\n",
    "df = pd.DataFrame()\n",
    "\n",
    "# criando colunas\n",
    "df[\"Ano\"] = list(range(2023, 2071))\n",
    "df[\"Produção de pinhão (t)\"] = data \n",
    "    \n",
    "# Colocando os anos como index\n",
    "df = df.set_index(df[\"Ano\"])\n",
    "print(df) "
   ]
  },
  {
   "cell_type": "code",
   "execution_count": 7,
   "id": "b15ed412-a266-4f9c-b4f6-39ad2680174a",
   "metadata": {},
   "outputs": [
    {
     "data": {
      "image/png": "[encoded data removed]",
      "text/plain": [
       "<Figure size 640x480 with 1 Axes>"
      ]
     },
     "metadata": {},
     "output_type": "display_data"
    }
   ],
   "source": [
    "#Gráfico\n",
    "plt.bar(df[\"Ano\"], df[\"Produção de pinhão (t)\"], color=\"#800000\")\n",
    "plt.xlabel(\"Ano\")\n",
    "plt.ylabel(\"Produção (toneladas)\")\n",
    "plt.title(\"Expectativa da produção anual de pinhão em Santa Catarina\")\n",
    "plt.show() "
   ]
  }
 ],
 "metadata": {
  "kernelspec": {
   "display_name": "Python 3 (ipykernel)",
   "language": "python",
   "name": "python3"
  },
  "language_info": {
   "codemirror_mode": {
    "name": "ipython",
    "version": 3
   },
   "file_extension": ".py",
   "mimetype": "text/x-python",
   "name": "python",
   "nbconvert_exporter": "python",
   "pygments_lexer": "ipython3",
   "version": "3.11.7"
  }
 },
 "nbformat": 4,
 "nbformat_minor": 5
}
