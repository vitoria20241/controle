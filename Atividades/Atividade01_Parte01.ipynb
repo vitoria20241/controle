{
 "cells": [
  {
   "cell_type": "markdown",
   "id": "4feb91a5-5663-4c3c-9ee4-00e9e0158a00",
   "metadata": {},
   "source": [
    "# Atividade 01 - Parte 01 - Inventário de emissões utilizando Python\n",
    "Foi utilizado o capítulo 10.6 da AP42, pois a empresa fabrica MDF. https://www.epa.gov/sites/default/files/2020-10/documents/c10s0603.pdf"
   ]
  },
  {
   "cell_type": "markdown",
   "id": "95606b19-4735-4e30-b7d9-e0407ea6916a",
   "metadata": {},
   "source": [
    "Fatores de emissão (FE) foram convertidos da seguinte maneira:\n",
    "\n",
    "-Caso A: FE em lb/ODT = 0.5 kg/Mg = 0.35 kg/m3\n",
    "\n",
    "Densidade do MDF = 700kg/m3 \n",
    "\n",
    "-Caso B: FE em lb/MSF 3/4 = 0.26 kg/m3 \n",
    "\n",
    "-Caso C: FE em lb/MSF = 0.0049 kg/m2 = 0.27 kg/m3\n",
    "\n",
    "Espessura do MDF = 0.018m \n",
    "\n",
    "Taxa de atividade = 1.140 milhão m3/ano"
   ]
  },
  {
   "cell_type": "code",
   "execution_count": 8,
   "id": "b6c01532-d051-4575-aa42-912c8f699e14",
   "metadata": {},
   "outputs": [
    {
     "name": "stdout",
     "output_type": "stream",
     "text": [
      "                                              Source      PM  PM-10    NOX  \\\n",
      "0  Tube dryer, direct wood-fired, blowline blend,...  3.6400  0.560    NaN   \n",
      "1              Hot press, UF resin (SCC 3-07-009-60)  0.0468  0.039  0.039   \n",
      "2  Former with blowline blend, UF resin (SCC 3-07...     NaN    NaN    NaN   \n",
      "3                           Sander (SCC 3-07-009-83)     NaN    NaN    NaN   \n",
      "4                   Saw and hogger (SCC 3-07-009-84)     NaN    NaN    NaN   \n",
      "\n",
      "        CO  VOC as propane  \n",
      "0  1.40000        2.100000  \n",
      "1  0.00884        0.208000  \n",
      "2      NaN        0.023450  \n",
      "3      NaN        0.001782  \n",
      "4      NaN        0.035100  \n"
     ]
    }
   ],
   "source": [
    "import pandas as pd\n",
    "import os\n",
    "import numpy as np\n",
    "import matplotlib.pyplot as plt\n",
    "\n",
    "#dados de entrada\n",
    "ta = 1.14 # taxa de atividade em milhao m3/ano\n",
    "path = \"C:\\ENS5173\\Dados\\FE.csv\"\n",
    "fe = pd.read_csv(path) # fatores de emissao em kg/m3 \n",
    "print(fe)"
   ]
  },
  {
   "cell_type": "code",
   "execution_count": 9,
   "id": "11b5f130-b334-4dcb-a6e9-1a6aa39f313f",
   "metadata": {},
   "outputs": [
    {
     "name": "stdout",
     "output_type": "stream",
     "text": [
      "                                                          PM    PM-10  \\\n",
      "Source                                                                  \n",
      "Tube dryer, direct wood-fired, blowline blend, ...  4.149600  0.63840   \n",
      "Hot press, UF resin (SCC 3-07-009-60)               0.053352  0.04446   \n",
      "Former with blowline blend, UF resin (SCC 3-07-...       NaN      NaN   \n",
      "Sander (SCC 3-07-009-83)                                 NaN      NaN   \n",
      "Saw and hogger (SCC 3-07-009-84)                         NaN      NaN   \n",
      "\n",
      "                                                        NOX        CO  \\\n",
      "Source                                                                  \n",
      "Tube dryer, direct wood-fired, blowline blend, ...      NaN  1.596000   \n",
      "Hot press, UF resin (SCC 3-07-009-60)               0.04446  0.010078   \n",
      "Former with blowline blend, UF resin (SCC 3-07-...      NaN       NaN   \n",
      "Sander (SCC 3-07-009-83)                                NaN       NaN   \n",
      "Saw and hogger (SCC 3-07-009-84)                        NaN       NaN   \n",
      "\n",
      "                                                    VOC as propane  \n",
      "Source                                                              \n",
      "Tube dryer, direct wood-fired, blowline blend, ...        2.394000  \n",
      "Hot press, UF resin (SCC 3-07-009-60)                     0.237120  \n",
      "Former with blowline blend, UF resin (SCC 3-07-...        0.026733  \n",
      "Sander (SCC 3-07-009-83)                                  0.002031  \n",
      "Saw and hogger (SCC 3-07-009-84)                          0.040014  \n"
     ]
    }
   ],
   "source": [
    "# criando funcao para calcular as emissoes \n",
    "\n",
    "def emis(FE, TA):\n",
    "    emis = pd.DataFrame()\n",
    "    cols_numericas = FE.select_dtypes(np.float64).columns\n",
    "    emis = FE[cols_numericas] * TA\n",
    "    emis = emis.set_index(FE['Source'])\n",
    "    return emis\n",
    "\n",
    "emissoes = emis(fe, ta)\n",
    "print(emissoes) \n"
   ]
  },
  {
   "cell_type": "code",
   "execution_count": null,
   "id": "51456d96-1da6-49ae-bbb9-7e79eb140b65",
   "metadata": {},
   "outputs": [],
   "source": []
  }
 ],
 "metadata": {
  "kernelspec": {
   "display_name": "Python 3 (ipykernel)",
   "language": "python",
   "name": "python3"
  },
  "language_info": {
   "codemirror_mode": {
    "name": "ipython",
    "version": 3
   },
   "file_extension": ".py",
   "mimetype": "text/x-python",
   "name": "python",
   "nbconvert_exporter": "python",
   "pygments_lexer": "ipython3",
   "version": "3.11.7"
  }
 },
 "nbformat": 4,
 "nbformat_minor": 5
}
