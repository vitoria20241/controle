{
 "cells": [
  {
   "cell_type": "markdown",
   "id": "c19bf892-e143-49f7-9593-0414d774c456",
   "metadata": {},
   "source": [
    "# Atividade 03 - Parte 01"
   ]
  },
  {
   "cell_type": "markdown",
   "id": "8a165688-de9c-496b-88a0-bd997ad342e8",
   "metadata": {},
   "source": [
    "## Função para determinar a classe de estabilidade de Pasquill \n",
    "Categorias de estabilidade atmosférica:\n",
    "- A – Extremamente instável; \n",
    "- B – Moderadamente instável; \n",
    "- C – Ligeiramente instável; \n",
    "- D – Neutro;\n",
    "- E – Ligeiramente estável; \n",
    "- F – Moderadamente estável."
   ]
  },
  {
   "cell_type": "code",
   "execution_count": null,
   "id": "c15a336a-b015-4213-be2c-840a9f005ead",
   "metadata": {},
   "outputs": [],
   "source": []
  },
  {
   "cell_type": "markdown",
   "id": "a8295b62-ca50-4882-8119-948639e447e6",
   "metadata": {},
   "source": [
    "## Função de estimativa de coefiente de dispersão (sigmaYZ) para todas as classes de estabilidade"
   ]
  },
  {
   "cell_type": "code",
   "execution_count": 2,
   "id": "5080e8a9-f794-4e14-b5e9-ae6d1481c489",
   "metadata": {},
   "outputs": [
    {
     "data": {
      "text/plain": [
       "{'Sigma Y': 15.920595043359826, 'Sigma Z': 12.0}"
      ]
     },
     "execution_count": 2,
     "metadata": {},
     "output_type": "execute_result"
    }
   ],
   "source": [
    "# Função para estimar as dispersões lateral e vertical da pluma \n",
    "def sigmasYZ(UR, classe, x):\n",
    "    if (classe=='A' or classe=='B') and UR=='urbano':\n",
    "        sigmaY = 0.32*x*((1+0.0004*x)**(-0.5)) \n",
    "        sigmaZ = 0.24*x*((1+0.001*x)**(0.5)) \n",
    "    if classe=='C' and UR=='urbano':\n",
    "        sigmaY = 0.22*x*((1+0.0004*x)**(-0.5)) \n",
    "        sigmaZ = 0.20*x \n",
    "    if classe=='D' and UR=='urbano':\n",
    "        sigmaY = 0.16*x*((1+0.0004*x)**(-0.5)) \n",
    "        sigmaZ = 0.14*x*((1+0.0003*x)**(-0.5))\n",
    "    if (classe=='E' or classe=='F') and UR=='urbano':\n",
    "        sigmaY = 0.11*x*((1+0.0004*x)**(-0.5)) \n",
    "        sigmaZ = 0.08*x*((1+0.0015*x)**(-0.5)) \n",
    "    if classe=='A' and UR=='rural':\n",
    "        sigmaY = 0.22*x*((1+0.0001*x)**(-0.5)) \n",
    "        sigmaZ = 0.20*x \n",
    "    if classe=='B' and UR=='rural':\n",
    "        sigmaY = 0.16*x*((1+0.0001*x)**(-0.5))\n",
    "        sigmaZ = 0.12*x      \n",
    "    if classe=='C' and UR=='rural':\n",
    "        sigmaY = 0.11*x*((1+0.0001*x)**(-0.5))\n",
    "        sigmaZ = 0.08*x*((1+0.0002*x)**(-0.5))           \n",
    "    if classe=='D' and UR=='rural':\n",
    "        sigmaY = 0.08*x*((1+0.0001*x)**(-0.5))\n",
    "        sigmaZ = 0.06*x*((1+0.0015*x)**(-0.5))      \n",
    "    if classe=='E' and UR=='rural':\n",
    "        sigmaY = 0.06*x*((1+0.0001*x)**(-0.5))\n",
    "        sigmaZ = 0.03*x*((1+0.0003*x)**(-1))\n",
    "    if classe=='F' and UR=='rural':\n",
    "        sigmaY = 0.04*x*((1+0.0001*x)**(-0.5))\n",
    "        sigmaZ = 0.016*x*((1+0.0003*x)**(-1))\n",
    "    return {'Sigma Y': sigmaY, 'Sigma Z': sigmaZ}\n",
    "\n",
    "sigmas = sigmasYZ('rural', 'B', 100) \n",
    "sigmas"
   ]
  },
  {
   "cell_type": "markdown",
   "id": "687c3f8a-dc15-4745-92ba-f89caca0d814",
   "metadata": {},
   "source": [
    "## Função de estimativa de sobrelevação da pluma\n",
    "Métodos de Davidson-Bryant e de Holland. Deve ser considerado o efeito Tip-Downwash."
   ]
  },
  {
   "cell_type": "code",
   "execution_count": null,
   "id": "a4b7a057-afba-4273-8421-38b4df464456",
   "metadata": {},
   "outputs": [],
   "source": []
  },
  {
   "cell_type": "markdown",
   "id": "3d32c760-7545-4d87-b267-d8fcb2d943fa",
   "metadata": {},
   "source": [
    "## Função do modelo gaussiano"
   ]
  },
  {
   "cell_type": "code",
   "execution_count": null,
   "id": "f54fc753-8638-44eb-94ab-ac3960bc297c",
   "metadata": {},
   "outputs": [],
   "source": []
  },
  {
   "cell_type": "markdown",
   "id": "42aeaa83-af55-4c58-a427-057d52870431",
   "metadata": {},
   "source": [
    "## Simulações com o script \n",
    "(Utilizando diferentes classes de estabilidade, velocidades do vento, alturas de chaminé. Considere a taxa de emissão que você estimou na primeira atividade. Encontre a altura de chaminé necessária para que as concentrações não violem os padrões da Resolução CONAMA 491)."
   ]
  },
  {
   "cell_type": "code",
   "execution_count": null,
   "id": "73f4f655-77af-4c2f-a8c0-45a7be106fad",
   "metadata": {},
   "outputs": [],
   "source": []
  },
  {
   "cell_type": "markdown",
   "id": "b34a3526-ecdd-4076-8a1e-8951faf8450c",
   "metadata": {},
   "source": [
    "## Figuras e discução dos resultados"
   ]
  },
  {
   "cell_type": "code",
   "execution_count": null,
   "id": "1cd71ab7-23bb-4fba-9749-5eff1c1cd66d",
   "metadata": {},
   "outputs": [],
   "source": []
  }
 ],
 "metadata": {
  "kernelspec": {
   "display_name": "Python 3 (ipykernel)",
   "language": "python",
   "name": "python3"
  },
  "language_info": {
   "codemirror_mode": {
    "name": "ipython",
    "version": 3
   },
   "file_extension": ".py",
   "mimetype": "text/x-python",
   "name": "python",
   "nbconvert_exporter": "python",
   "pygments_lexer": "ipython3",
   "version": "3.12.3"
  }
 },
 "nbformat": 4,
 "nbformat_minor": 5
}
