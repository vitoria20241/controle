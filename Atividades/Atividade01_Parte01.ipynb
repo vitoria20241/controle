{
 "cells": [
  {
   "cell_type": "markdown",
   "id": "645de2d3-be0f-4710-ad3b-b61ad62b6999",
   "metadata": {},
   "source": [
    "# Atividade 01 - Parte 01 - Inventário de emissões utilizando Python\n",
    "Foi utilizado o capítulo 10.6 da AP42, pois a empresa fabrica MDF. https://www.epa.gov/sites/default/files/2020-10/documents/c10s0603.pdf"
   ]
  },
  {
   "cell_type": "code",
   "execution_count": null,
   "id": "cfee9342-4039-4182-a917-5d70d10627b8",
   "metadata": {},
   "outputs": [],
   "source": [
    "Fatores de emissão (FE) foram convertidos da seguinte maneira:\n",
    "\n",
    "-Caso A: FE em lb/ODT = 0.5 kg/Mg = 0.35 kg/m3 (pois densidade do MDF = 700kg/m3)\n",
    "\n",
    "-Caso B: FE em lb/MSF 3/4 = 0.26 kg/m3 \n",
    "\n",
    "-Caso C: FE em lb/MSF = 0.0049 kg/m2 = 0.27 kg/m3 (pois espessura do MDF = 0.018m)\n",
    "\n",
    "Taxa de atividade = 1.140 milhão m3/ano"
   ]
  },
  {
   "cell_type": "markdown",
   "id": "dee20a98-2e86-474e-a769-8e7974e91e5b",
   "metadata": {},
   "source": [
    "1 - Planilhar em arquivo .csv os fatores de emissão para cada processo do seu empreendimento (linhas) e para cada poluente (colunas)."
   ]
  },
  {
   "cell_type": "code",
   "execution_count": 24,
   "id": "a8468ed8-c442-4735-971a-6cda0543dab3",
   "metadata": {},
   "outputs": [
    {
     "name": "stdout",
     "output_type": "stream",
     "text": [
      "                                              Source      PM  PM-10    NOX  \\\n",
      "0  Tube dryer, direct wood-fired, blowline blend,...  3.6400  0.560    NaN   \n",
      "1              Hot press, UF resin (SCC 3-07-009-60)  0.0468  0.039  0.039   \n",
      "2  Former with blowline blend, UF resin (SCC 3-07...     NaN    NaN    NaN   \n",
      "3                           Sander (SCC 3-07-009-83)     NaN    NaN    NaN   \n",
      "4                   Saw and hogger (SCC 3-07-009-84)     NaN    NaN    NaN   \n",
      "\n",
      "        CO  VOC as propane  \n",
      "0  1.40000        2.100000  \n",
      "1  0.00884        0.208000  \n",
      "2      NaN        0.023450  \n",
      "3      NaN        0.001782  \n",
      "4      NaN        0.035100  \n"
     ]
    }
   ],
   "source": [
    "import pandas as pd\n",
    "import numpy as np\n",
    "import matplotlib.pyplot as plt\n",
    "# import os\n",
    "\n",
    "#dados de entrada\n",
    "ta = 1140000 # taxa de atividade em m3/ano\n",
    "path = \"C:\\ENS5173\\Dados\\FE.csv\"\n",
    "fe = pd.read_csv(path) # fatores de emissao em kg/m3 \n",
    "print(fe) "
   ]
  },
  {
   "cell_type": "markdown",
   "id": "24009dac-1ffc-4e9b-b57f-03cf60139c9b",
   "metadata": {},
   "source": [
    "2- Elaborar uma função para ler a planilha dos fatores de emissão e estimar a emissão com base na taxa de atividade do empreendimento. "
   ]
  },
  {
   "cell_type": "code",
   "execution_count": 25,
   "id": "bcb024d9-7e77-4e9d-b4c3-7b8c4aca6eec",
   "metadata": {},
   "outputs": [
    {
     "name": "stdout",
     "output_type": "stream",
     "text": [
      "                                                           PM     PM-10  \\\n",
      "Source                                                                    \n",
      "Tube dryer, direct wood-fired, blowline blend, ...  4149600.0  638400.0   \n",
      "Hot press, UF resin (SCC 3-07-009-60)                 53352.0   44460.0   \n",
      "Former with blowline blend, UF resin (SCC 3-07-...        NaN       NaN   \n",
      "Sander (SCC 3-07-009-83)                                  NaN       NaN   \n",
      "Saw and hogger (SCC 3-07-009-84)                          NaN       NaN   \n",
      "\n",
      "                                                        NOX         CO  \\\n",
      "Source                                                                   \n",
      "Tube dryer, direct wood-fired, blowline blend, ...      NaN  1596000.0   \n",
      "Hot press, UF resin (SCC 3-07-009-60)               44460.0    10077.6   \n",
      "Former with blowline blend, UF resin (SCC 3-07-...      NaN        NaN   \n",
      "Sander (SCC 3-07-009-83)                                NaN        NaN   \n",
      "Saw and hogger (SCC 3-07-009-84)                        NaN        NaN   \n",
      "\n",
      "                                                    VOC as propane  \n",
      "Source                                                              \n",
      "Tube dryer, direct wood-fired, blowline blend, ...      2394000.00  \n",
      "Hot press, UF resin (SCC 3-07-009-60)                    237120.00  \n",
      "Former with blowline blend, UF resin (SCC 3-07-...        26733.00  \n",
      "Sander (SCC 3-07-009-83)                                   2031.48  \n",
      "Saw and hogger (SCC 3-07-009-84)                          40014.00  \n"
     ]
    }
   ],
   "source": [
    "def emis(FE, TA):\n",
    "    emis = pd.DataFrame()\n",
    "    cols_numericas = FE.select_dtypes(np.float64).columns\n",
    "    emis = FE[cols_numericas] * TA # multiplica todas as colunas numericas de FE pela TA\n",
    "    emis = emis.set_index(FE['Source']) # coloca os processos no index \n",
    "    return emis\n",
    "\n",
    "emissoes = emis(fe, ta) # chamando a funcao\n",
    "print(emissoes) "
   ]
  },
  {
   "cell_type": "markdown",
   "id": "5ebe15f6-ab78-4d69-8dcf-386842511604",
   "metadata": {},
   "source": [
    "3- Elaborar uma função para criar uma variabilidade na taxa de atividade do empreendimento, com componentes aleatória e sazonal (com base nas datas do ano de 2023)."
   ]
  },
  {
   "cell_type": "code",
   "execution_count": 26,
   "id": "561d0fab-c121-477a-aa21-8da96f20ee29",
   "metadata": {},
   "outputs": [
    {
     "data": {
      "text/html": [
       "<div>\n",
       "<style scoped>\n",
       "    .dataframe tbody tr th:only-of-type {\n",
       "        vertical-align: middle;\n",
       "    }\n",
       "\n",
       "    .dataframe tbody tr th {\n",
       "        vertical-align: top;\n",
       "    }\n",
       "\n",
       "    .dataframe thead th {\n",
       "        text-align: right;\n",
       "    }\n",
       "</style>\n",
       "<table border=\"1\" class=\"dataframe\">\n",
       "  <thead>\n",
       "    <tr style=\"text-align: right;\">\n",
       "      <th></th>\n",
       "      <th>Data</th>\n",
       "      <th>Mes</th>\n",
       "      <th>sazonalidade</th>\n",
       "      <th>atividade</th>\n",
       "      <th>aleatorioSazonal</th>\n",
       "    </tr>\n",
       "  </thead>\n",
       "  <tbody>\n",
       "    <tr>\n",
       "      <th>0</th>\n",
       "      <td>2023-01-01 00:00:00</td>\n",
       "      <td>1</td>\n",
       "      <td>1.866025</td>\n",
       "      <td>68.252163</td>\n",
       "      <td>127.360269</td>\n",
       "    </tr>\n",
       "    <tr>\n",
       "      <th>1</th>\n",
       "      <td>2023-01-01 01:00:00</td>\n",
       "      <td>1</td>\n",
       "      <td>1.866025</td>\n",
       "      <td>219.891636</td>\n",
       "      <td>410.323379</td>\n",
       "    </tr>\n",
       "    <tr>\n",
       "      <th>2</th>\n",
       "      <td>2023-01-01 02:00:00</td>\n",
       "      <td>1</td>\n",
       "      <td>1.866025</td>\n",
       "      <td>124.299989</td>\n",
       "      <td>231.946937</td>\n",
       "    </tr>\n",
       "    <tr>\n",
       "      <th>3</th>\n",
       "      <td>2023-01-01 03:00:00</td>\n",
       "      <td>1</td>\n",
       "      <td>1.866025</td>\n",
       "      <td>226.692240</td>\n",
       "      <td>423.013478</td>\n",
       "    </tr>\n",
       "    <tr>\n",
       "      <th>4</th>\n",
       "      <td>2023-01-01 04:00:00</td>\n",
       "      <td>1</td>\n",
       "      <td>1.866025</td>\n",
       "      <td>240.520133</td>\n",
       "      <td>448.816678</td>\n",
       "    </tr>\n",
       "    <tr>\n",
       "      <th>...</th>\n",
       "      <td>...</td>\n",
       "      <td>...</td>\n",
       "      <td>...</td>\n",
       "      <td>...</td>\n",
       "      <td>...</td>\n",
       "    </tr>\n",
       "    <tr>\n",
       "      <th>8732</th>\n",
       "      <td>2023-12-30 20:00:00</td>\n",
       "      <td>12</td>\n",
       "      <td>2.000000</td>\n",
       "      <td>95.442084</td>\n",
       "      <td>190.884168</td>\n",
       "    </tr>\n",
       "    <tr>\n",
       "      <th>8733</th>\n",
       "      <td>2023-12-30 21:00:00</td>\n",
       "      <td>12</td>\n",
       "      <td>2.000000</td>\n",
       "      <td>114.214702</td>\n",
       "      <td>228.429404</td>\n",
       "    </tr>\n",
       "    <tr>\n",
       "      <th>8734</th>\n",
       "      <td>2023-12-30 22:00:00</td>\n",
       "      <td>12</td>\n",
       "      <td>2.000000</td>\n",
       "      <td>51.811808</td>\n",
       "      <td>103.623615</td>\n",
       "    </tr>\n",
       "    <tr>\n",
       "      <th>8735</th>\n",
       "      <td>2023-12-30 23:00:00</td>\n",
       "      <td>12</td>\n",
       "      <td>2.000000</td>\n",
       "      <td>18.320176</td>\n",
       "      <td>36.640353</td>\n",
       "    </tr>\n",
       "    <tr>\n",
       "      <th>8736</th>\n",
       "      <td>2023-12-31 00:00:00</td>\n",
       "      <td>12</td>\n",
       "      <td>2.000000</td>\n",
       "      <td>167.125032</td>\n",
       "      <td>334.250065</td>\n",
       "    </tr>\n",
       "  </tbody>\n",
       "</table>\n",
       "<p>8737 rows × 5 columns</p>\n",
       "</div>"
      ],
      "text/plain": [
       "                    Data  Mes  sazonalidade   atividade  aleatorioSazonal\n",
       "0    2023-01-01 00:00:00    1      1.866025   68.252163        127.360269\n",
       "1    2023-01-01 01:00:00    1      1.866025  219.891636        410.323379\n",
       "2    2023-01-01 02:00:00    1      1.866025  124.299989        231.946937\n",
       "3    2023-01-01 03:00:00    1      1.866025  226.692240        423.013478\n",
       "4    2023-01-01 04:00:00    1      1.866025  240.520133        448.816678\n",
       "...                  ...  ...           ...         ...               ...\n",
       "8732 2023-12-30 20:00:00   12      2.000000   95.442084        190.884168\n",
       "8733 2023-12-30 21:00:00   12      2.000000  114.214702        228.429404\n",
       "8734 2023-12-30 22:00:00   12      2.000000   51.811808        103.623615\n",
       "8735 2023-12-30 23:00:00   12      2.000000   18.320176         36.640353\n",
       "8736 2023-12-31 00:00:00   12      2.000000  167.125032        334.250065\n",
       "\n",
       "[8737 rows x 5 columns]"
      ]
     },
     "execution_count": 26,
     "metadata": {},
     "output_type": "execute_result"
    }
   ],
   "source": [
    "def variabilidade(TA):\n",
    "    datas = pd.date_range(start='2023-01-01', end='2023-12-31', freq='H') # intervalo de datas\n",
    "    df = pd.DataFrame({'Data': datas}) # DataFrame com as datas\n",
    "    df['Mes'] = df['Data'].dt.month # nova coluna com os meses no DataFrame\n",
    "    sazonalidade = np.cos((2*np.pi)*df['Mes']/12) # funcao que modela a sazonalidade \n",
    "    df['sazonalidade'] = sazonalidade + 1 # variabilidade da TA entre os meses (componente sazonal)\n",
    "    # variabilidade da TA entre as horas (componente aleatoria), metodo de Monte-Carlo:\n",
    "    atvMin = (ta/8760)*min(df['sazonalidade'])\n",
    "    atvMax = (ta/8760)*max(df['sazonalidade']) # obs: 1ano = 8760 horas\n",
    "    n = df.shape[0] # Extraindo o número de linhas/número de datas\n",
    "    atv = (atvMax - atvMin)*np.random.rand(n) + atvMin # Criando atividade aleatória\n",
    "    df['atividade'] = atv  \n",
    "    df['aleatorioSazonal'] = df['atividade'] * df['sazonalidade'] # Valores aleatórios com sazonalidade \n",
    "    return df\n",
    "\n",
    "dados = variabilidade(ta) # chamando a funcao\n",
    "dados"
   ]
  },
  {
   "cell_type": "markdown",
   "id": "5f84a1aa-5395-44e8-8451-7ef2b47b9f6f",
   "metadata": {},
   "source": [
    "4- Estimar as emissões com a função criada em 2  com os dados de entrada criados em 3."
   ]
  },
  {
   "cell_type": "markdown",
   "id": "fdc74218-5d8e-4eb4-942c-63f35eb2bdde",
   "metadata": {},
   "source": [
    "Obs: cada linha da coluna dados['aleatorioSazonal'] é uma TA, portanto a função emis será aplicada \"i\" vezes e os resultados serão adicionados ao df_concatenado. "
   ]
  },
  {
   "cell_type": "code",
   "execution_count": 27,
   "id": "1a9a0cd7-b7af-43f8-ac04-f54802a77831",
   "metadata": {},
   "outputs": [
    {
     "data": {
      "text/html": [
       "<div>\n",
       "<style scoped>\n",
       "    .dataframe tbody tr th:only-of-type {\n",
       "        vertical-align: middle;\n",
       "    }\n",
       "\n",
       "    .dataframe tbody tr th {\n",
       "        vertical-align: top;\n",
       "    }\n",
       "\n",
       "    .dataframe thead th {\n",
       "        text-align: right;\n",
       "    }\n",
       "</style>\n",
       "<table border=\"1\" class=\"dataframe\">\n",
       "  <thead>\n",
       "    <tr style=\"text-align: right;\">\n",
       "      <th></th>\n",
       "      <th>PM</th>\n",
       "      <th>PM-10</th>\n",
       "      <th>NOX</th>\n",
       "      <th>CO</th>\n",
       "      <th>VOC as propane</th>\n",
       "    </tr>\n",
       "  </thead>\n",
       "  <tbody>\n",
       "    <tr>\n",
       "      <th>0</th>\n",
       "      <td>463.591379</td>\n",
       "      <td>71.321751</td>\n",
       "      <td>NaN</td>\n",
       "      <td>178.304377</td>\n",
       "      <td>267.456565</td>\n",
       "    </tr>\n",
       "    <tr>\n",
       "      <th>1</th>\n",
       "      <td>5.960461</td>\n",
       "      <td>4.967050</td>\n",
       "      <td>4.967050</td>\n",
       "      <td>1.125865</td>\n",
       "      <td>26.490936</td>\n",
       "    </tr>\n",
       "    <tr>\n",
       "      <th>2</th>\n",
       "      <td>NaN</td>\n",
       "      <td>NaN</td>\n",
       "      <td>NaN</td>\n",
       "      <td>NaN</td>\n",
       "      <td>2.986598</td>\n",
       "    </tr>\n",
       "    <tr>\n",
       "      <th>3</th>\n",
       "      <td>NaN</td>\n",
       "      <td>NaN</td>\n",
       "      <td>NaN</td>\n",
       "      <td>NaN</td>\n",
       "      <td>0.226956</td>\n",
       "    </tr>\n",
       "    <tr>\n",
       "      <th>4</th>\n",
       "      <td>NaN</td>\n",
       "      <td>NaN</td>\n",
       "      <td>NaN</td>\n",
       "      <td>NaN</td>\n",
       "      <td>4.470345</td>\n",
       "    </tr>\n",
       "    <tr>\n",
       "      <th>...</th>\n",
       "      <td>...</td>\n",
       "      <td>...</td>\n",
       "      <td>...</td>\n",
       "      <td>...</td>\n",
       "      <td>...</td>\n",
       "    </tr>\n",
       "    <tr>\n",
       "      <th>43680</th>\n",
       "      <td>1216.670236</td>\n",
       "      <td>187.180036</td>\n",
       "      <td>NaN</td>\n",
       "      <td>467.950091</td>\n",
       "      <td>701.925136</td>\n",
       "    </tr>\n",
       "    <tr>\n",
       "      <th>43681</th>\n",
       "      <td>15.642903</td>\n",
       "      <td>13.035753</td>\n",
       "      <td>13.035753</td>\n",
       "      <td>2.954771</td>\n",
       "      <td>69.524013</td>\n",
       "    </tr>\n",
       "    <tr>\n",
       "      <th>43682</th>\n",
       "      <td>NaN</td>\n",
       "      <td>NaN</td>\n",
       "      <td>NaN</td>\n",
       "      <td>NaN</td>\n",
       "      <td>7.838164</td>\n",
       "    </tr>\n",
       "    <tr>\n",
       "      <th>43683</th>\n",
       "      <td>NaN</td>\n",
       "      <td>NaN</td>\n",
       "      <td>NaN</td>\n",
       "      <td>NaN</td>\n",
       "      <td>0.595634</td>\n",
       "    </tr>\n",
       "    <tr>\n",
       "      <th>43684</th>\n",
       "      <td>NaN</td>\n",
       "      <td>NaN</td>\n",
       "      <td>NaN</td>\n",
       "      <td>NaN</td>\n",
       "      <td>11.732177</td>\n",
       "    </tr>\n",
       "  </tbody>\n",
       "</table>\n",
       "<p>43685 rows × 5 columns</p>\n",
       "</div>"
      ],
      "text/plain": [
       "                PM       PM-10        NOX          CO  VOC as propane\n",
       "0       463.591379   71.321751        NaN  178.304377      267.456565\n",
       "1         5.960461    4.967050   4.967050    1.125865       26.490936\n",
       "2              NaN         NaN        NaN         NaN        2.986598\n",
       "3              NaN         NaN        NaN         NaN        0.226956\n",
       "4              NaN         NaN        NaN         NaN        4.470345\n",
       "...            ...         ...        ...         ...             ...\n",
       "43680  1216.670236  187.180036        NaN  467.950091      701.925136\n",
       "43681    15.642903   13.035753  13.035753    2.954771       69.524013\n",
       "43682          NaN         NaN        NaN         NaN        7.838164\n",
       "43683          NaN         NaN        NaN         NaN        0.595634\n",
       "43684          NaN         NaN        NaN         NaN       11.732177\n",
       "\n",
       "[43685 rows x 5 columns]"
      ]
     },
     "execution_count": 27,
     "metadata": {},
     "output_type": "execute_result"
    }
   ],
   "source": [
    "df_concatenado = pd.DataFrame()\n",
    "for i in range(len(dados['aleatorioSazonal'])): \n",
    "    aux = emis(fe, dados['aleatorioSazonal'][i])\n",
    "    df_concatenado = pd.concat([df_concatenado, aux], ignore_index=True)\n",
    "    \n",
    "df_concatenado "
   ]
  },
  {
   "cell_type": "markdown",
   "id": "5df90354-3ae3-4448-a3f0-c41745f92236",
   "metadata": {},
   "source": [
    "5- Elaborar figuras e interpretar os resultados. "
   ]
  },
  {
   "cell_type": "markdown",
   "id": "4f52dd21-9236-467a-af7b-b80c85d0ed69",
   "metadata": {},
   "source": [
    "    Qual é o processo do empreendimento que possui maior emissão? "
   ]
  },
  {
   "cell_type": "code",
   "execution_count": null,
   "id": "377b6c72-f205-4188-b517-2bacd801640a",
   "metadata": {},
   "outputs": [],
   "source": []
  },
  {
   "cell_type": "markdown",
   "id": "b7fd7c5f-39ef-4abf-8a04-dcc4053d82a9",
   "metadata": {},
   "source": [
    "    Qual a variabilidade temporal da taxa de atividade?"
   ]
  },
  {
   "cell_type": "markdown",
   "id": "fd92325f-7726-4c82-946f-dfa2db9d95ad",
   "metadata": {},
   "source": [
    "\"dados\" traz informações de hora em hora ao longo de doze meses, logo o gráfico gerado mostrará:\n",
    "    a) componente sazonal (variabilidade entre meses), vista no perfil da curva (função cosseno) e \n",
    "    b) componente aleatória (variabilidade entre horas), vista no eixo y."
   ]
  },
  {
   "cell_type": "code",
   "execution_count": 28,
   "id": "026b91cc-7320-4068-bedc-c0d86d0a2dd7",
   "metadata": {},
   "outputs": [
    {
     "data": {
      "image/png": "[encoded data removed]",
      "text/plain": [
       "<Figure size 640x480 with 1 Axes>"
      ]
     },
     "metadata": {},
     "output_type": "display_data"
    }
   ],
   "source": [
    "plt.plot(dados['Data'], dados['aleatorioSazonal']) \n",
    "plt.xlabel('t (h)')\n",
    "plt.ylabel('TA (m3)')\n",
    "plt.title('Variabilidade temporal da taxa de atividade')\n",
    "plt.show() "
   ]
  },
  {
   "cell_type": "markdown",
   "id": "c9ae50ec-0c15-45ad-be6c-b6260ca19bd1",
   "metadata": {},
   "source": [
    "    Qual a soma das emissões considerando todos os processos? Qual a emissão média, mínima e máxima (unidades sempre em gramas por segundo - g/s)?"
   ]
  },
  {
   "cell_type": "markdown",
   "id": "32dcaa5a-4c65-4dcd-b00a-94acfdd3e87f",
   "metadata": {},
   "source": [
    "df_concatenado traz as emissões de hora em hora, ao longo de doze meses, em kg/h. (1kg/h = 0.28g/s)"
   ]
  },
  {
   "cell_type": "code",
   "execution_count": 36,
   "id": "f4aba17d-755b-47a4-b291-8a02fe255483",
   "metadata": {},
   "outputs": [
    {
     "data": {
      "text/html": [
       "<div>\n",
       "<style scoped>\n",
       "    .dataframe tbody tr th:only-of-type {\n",
       "        vertical-align: middle;\n",
       "    }\n",
       "\n",
       "    .dataframe tbody tr th {\n",
       "        vertical-align: top;\n",
       "    }\n",
       "\n",
       "    .dataframe thead th {\n",
       "        text-align: right;\n",
       "    }\n",
       "</style>\n",
       "<table border=\"1\" class=\"dataframe\">\n",
       "  <thead>\n",
       "    <tr style=\"text-align: right;\">\n",
       "      <th></th>\n",
       "      <th>PM</th>\n",
       "      <th>PM-10</th>\n",
       "      <th>NOX</th>\n",
       "      <th>CO</th>\n",
       "      <th>VOC as propane</th>\n",
       "    </tr>\n",
       "    <tr>\n",
       "      <th>Emissões (g/s)</th>\n",
       "      <th></th>\n",
       "      <th></th>\n",
       "      <th></th>\n",
       "      <th></th>\n",
       "      <th></th>\n",
       "    </tr>\n",
       "  </thead>\n",
       "  <tbody>\n",
       "    <tr>\n",
       "      <th>Soma</th>\n",
       "      <td>1.160092e+06</td>\n",
       "      <td>188481.926368</td>\n",
       "      <td>12271.778178</td>\n",
       "      <td>443306.973530</td>\n",
       "      <td>745221.665507</td>\n",
       "    </tr>\n",
       "    <tr>\n",
       "      <th>Média</th>\n",
       "      <td>6.638961e+01</td>\n",
       "      <td>10.786421</td>\n",
       "      <td>1.404576</td>\n",
       "      <td>25.369519</td>\n",
       "      <td>17.058983</td>\n",
       "    </tr>\n",
       "    <tr>\n",
       "      <th>Mínimo</th>\n",
       "      <td>0.000000e+00</td>\n",
       "      <td>0.000000</td>\n",
       "      <td>0.000000</td>\n",
       "      <td>0.000000</td>\n",
       "      <td>0.000000</td>\n",
       "    </tr>\n",
       "    <tr>\n",
       "      <th>Máximo</th>\n",
       "      <td>5.305421e+02</td>\n",
       "      <td>81.621868</td>\n",
       "      <td>5.684380</td>\n",
       "      <td>204.054671</td>\n",
       "      <td>306.082007</td>\n",
       "    </tr>\n",
       "  </tbody>\n",
       "</table>\n",
       "</div>"
      ],
      "text/plain": [
       "                          PM          PM-10           NOX             CO  \\\n",
       "Emissões (g/s)                                                             \n",
       "Soma            1.160092e+06  188481.926368  12271.778178  443306.973530   \n",
       "Média           6.638961e+01      10.786421      1.404576      25.369519   \n",
       "Mínimo          0.000000e+00       0.000000      0.000000       0.000000   \n",
       "Máximo          5.305421e+02      81.621868      5.684380     204.054671   \n",
       "\n",
       "                VOC as propane  \n",
       "Emissões (g/s)                  \n",
       "Soma             745221.665507  \n",
       "Média                17.058983  \n",
       "Mínimo                0.000000  \n",
       "Máximo              306.082007  "
      ]
     },
     "execution_count": 36,
     "metadata": {},
     "output_type": "execute_result"
    }
   ],
   "source": [
    "resultados = pd.DataFrame()\n",
    "\n",
    "# soma, media, minimo e maximo de emissoes de cada poluente considerando todos os processos: \n",
    "soma = (df_concatenado['PM'].sum(), df_concatenado['PM-10'].sum(), df_concatenado['NOX'].sum(), df_concatenado['CO'].sum(), df_concatenado['VOC as propane'].sum())\n",
    "media = (np.mean(df_concatenado['PM']), np.mean(df_concatenado['PM-10']), np.mean(df_concatenado['NOX']), np.mean(df_concatenado['CO']), np.mean(df_concatenado['VOC as propane']))\n",
    "minimo = (df_concatenado['PM'].min(), df_concatenado['PM-10'].min(), df_concatenado['NOX'].min(), df_concatenado['CO'].min(), df_concatenado['VOC as propane'].min())\n",
    "maximo = (df_concatenado['PM'].max(), df_concatenado['PM-10'].max(), df_concatenado['NOX'].max(), df_concatenado['CO'].max(), df_concatenado['VOC as propane'].max())\n",
    "\n",
    "resultados = pd.DataFrame(data=(soma, media, minimo, maximo), columns=df_concatenado.columns) # coloca os valores no dataframe \n",
    "resultados['Emissões (g/s)'] = ('Soma', 'Média', 'Mínimo', 'Máximo') # essa coluna será adicionada ao index e posteriormente excluída \n",
    "resultados = resultados.set_index(resultados['Emissões (g/s)']) \n",
    "resultados = resultados.drop(columns='Emissões (g/s)') \n",
    "resultados = 0.28*resultados \n",
    "\n",
    "resultados \n"
   ]
  }
 ],
 "metadata": {
  "kernelspec": {
   "display_name": "Python 3 (ipykernel)",
   "language": "python",
   "name": "python3"
  },
  "language_info": {
   "codemirror_mode": {
    "name": "ipython",
    "version": 3
   },
   "file_extension": ".py",
   "mimetype": "text/x-python",
   "name": "python",
   "nbconvert_exporter": "python",
   "pygments_lexer": "ipython3",
   "version": "3.11.7"
  }
 },
 "nbformat": 4,
 "nbformat_minor": 5
}
