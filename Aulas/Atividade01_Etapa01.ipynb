{
 "cells": [
  {
   "cell_type": "markdown",
   "id": "bd60ec2e-ec5a-4391-ad2e-33f037f86bdf",
   "metadata": {},
   "source": [
    "# Aula 03/04/2024 - Comandos básicos no python\n",
    "## Tipos de variáveis "
   ]
  },
  {
   "cell_type": "code",
   "execution_count": null,
   "id": "845969ce-b909-4c93-91f2-590dd97d1efb",
   "metadata": {},
   "outputs": [],
   "source": []
  }
 ],
 "metadata": {
  "kernelspec": {
   "display_name": "anaconda-panel-2023.05-py310",
   "language": "python",
   "name": "conda-env-anaconda-panel-2023.05-py310-py"
  },
  "language_info": {
   "codemirror_mode": {
    "name": "ipython",
    "version": 3
   },
   "file_extension": ".py",
   "mimetype": "text/x-python",
   "name": "python",
   "nbconvert_exporter": "python",
   "pygments_lexer": "ipython3",
   "version": "3.11.5"
  }
 },
 "nbformat": 4,
 "nbformat_minor": 5
}
