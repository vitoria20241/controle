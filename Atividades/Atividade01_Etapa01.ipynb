{
 "cells": [
  {
   "cell_type": "markdown",
   "id": "bd60ec2e-ec5a-4391-ad2e-33f037f86bdf",
   "metadata": {},
   "source": [
    "# Aula 02 - Python\n",
    "## Dados numéricos"
   ]
  },
  {
   "cell_type": "code",
   "execution_count": 16,
   "id": "845969ce-b909-4c93-91f2-590dd97d1efb",
   "metadata": {},
   "outputs": [
    {
     "name": "stdout",
     "output_type": "stream",
     "text": [
      "Valor de a = 1\n"
     ]
    },
    {
     "data": {
      "text/plain": [
       "int"
      ]
     },
     "execution_count": 16,
     "metadata": {},
     "output_type": "execute_result"
    }
   ],
   "source": [
    "# Variável inteira\n",
    "a = 1\n",
    "print('Valor de a = '+str(a))\n",
    "type(a) \n",
    "# No exemplo acima, \"a\" é uma variável inteira que, no comando print, foi convertida em texto pelo uso do \"str\"/string.\n",
    "# type(a) mostra o tipo de variável de a."
   ]
  },
  {
   "cell_type": "code",
   "execution_count": 4,
   "id": "39670e14-f860-4380-a5ba-81f7cf6ea874",
   "metadata": {},
   "outputs": [
    {
     "name": "stdout",
     "output_type": "stream",
     "text": [
      "1.0\n"
     ]
    },
    {
     "data": {
      "text/plain": [
       "float"
      ]
     },
     "execution_count": 4,
     "metadata": {},
     "output_type": "execute_result"
    }
   ],
   "source": [
    "# Variável dupla precisão\n",
    "b = 1.0\n",
    "print(b)\n",
    "type(b)\n",
    "# Variáveis do tipo float são mais precisas, porém podem pesar no código, por isso devem ser usadas somente quando necessário."
   ]
  },
  {
   "cell_type": "code",
   "execution_count": 6,
   "id": "84370c98-efb6-4167-a063-769ed0764639",
   "metadata": {},
   "outputs": [
    {
     "name": "stdout",
     "output_type": "stream",
     "text": [
      "1\n"
     ]
    },
    {
     "data": {
      "text/plain": [
       "int"
      ]
     },
     "execution_count": 6,
     "metadata": {},
     "output_type": "execute_result"
    }
   ],
   "source": [
    "# Converter float para int\n",
    "c = int(b)\n",
    "print(c)\n",
    "type(c)\n",
    "#A variável c foi definida como o valor inteiro b."
   ]
  },
  {
   "cell_type": "code",
   "execution_count": 13,
   "id": "c9cf599c-c143-4341-9657-2df1c43142a8",
   "metadata": {},
   "outputs": [
    {
     "name": "stdout",
     "output_type": "stream",
     "text": [
      "nan\n",
      "nan\n",
      "nan\n",
      "1.0\n"
     ]
    }
   ],
   "source": [
    "# Delacrando nan\n",
    "import numpy as np\n",
    "d = np.nan\n",
    "print(d)\n",
    "type(d)\n",
    "\n",
    "# Operação com NaN\n",
    "e = d*1\n",
    "print(e)\n",
    "e = d+1\n",
    "print(e)\n",
    "e = np.nansum([d,1])\n",
    "print(e)"
   ]
  },
  {
   "cell_type": "markdown",
   "id": "eff13d9e-bb5c-484b-ac76-cededf9c6797",
   "metadata": {},
   "source": [
    "## Dados de texto "
   ]
  },
  {
   "cell_type": "code",
   "execution_count": 18,
   "id": "4fe2ca6b-1b23-4fbf-85ee-b274cb6473c0",
   "metadata": {},
   "outputs": [
    {
     "name": "stdout",
     "output_type": "stream",
     "text": [
      "Fábio\n",
      "Gabriel\n",
      "FábioGabriel\n",
      "Fábio Gabriel\n"
     ]
    }
   ],
   "source": [
    "# Declaração de variável texto\n",
    "f = 'Fábio'\n",
    "g = \"Gabriel\"\n",
    "print(f)\n",
    "print(g)\n",
    "print(f+g)\n",
    "print(f+' '+g)\n",
    "#Nesse exemplo, foram ilustradas as variáveis de texto e como no comando print é preciso especificar os espaços entre uma palavra e outra."
   ]
  },
  {
   "cell_type": "markdown",
   "id": "174887ad-48cf-4bed-bc9c-b4dfb5ae999e",
   "metadata": {},
   "source": [
    "## Dados tipo bool - lógica"
   ]
  },
  {
   "cell_type": "code",
   "execution_count": 21,
   "id": "3bb8c709-193e-444c-a4c5-6f614bed44d0",
   "metadata": {},
   "outputs": [
    {
     "data": {
      "text/plain": [
       "True"
      ]
     },
     "execution_count": 21,
     "metadata": {},
     "output_type": "execute_result"
    }
   ],
   "source": [
    "a==1"
   ]
  },
  {
   "cell_type": "code",
   "execution_count": 24,
   "id": "a08e8f71-3c77-4a4b-a47a-594ec8eee405",
   "metadata": {},
   "outputs": [
    {
     "name": "stdout",
     "output_type": "stream",
     "text": [
      "True\n"
     ]
    },
    {
     "data": {
      "text/plain": [
       "bool"
      ]
     },
     "execution_count": 24,
     "metadata": {},
     "output_type": "execute_result"
    }
   ],
   "source": [
    "h = (a==1)\n",
    "print(h)\n",
    "type(h)"
   ]
  },
  {
   "cell_type": "code",
   "execution_count": 26,
   "id": "fb23ed8a-e75f-4d71-bc38-b99e4e2252f5",
   "metadata": {},
   "outputs": [
    {
     "name": "stdout",
     "output_type": "stream",
     "text": [
      "False\n"
     ]
    },
    {
     "data": {
      "text/plain": [
       "bool"
      ]
     },
     "execution_count": 26,
     "metadata": {},
     "output_type": "execute_result"
    }
   ],
   "source": [
    "h = (a==2)\n",
    "print(h)\n",
    "type(h)"
   ]
  },
  {
   "cell_type": "code",
   "execution_count": 28,
   "id": "2e0aae2e-df5b-43ea-83b0-b25321b2a187",
   "metadata": {},
   "outputs": [
    {
     "data": {
      "text/plain": [
       "bool"
      ]
     },
     "execution_count": 28,
     "metadata": {},
     "output_type": "execute_result"
    }
   ],
   "source": [
    "i = True\n",
    "type(i)"
   ]
  },
  {
   "cell_type": "code",
   "execution_count": 30,
   "id": "b17f0150-11eb-4663-a23a-ab266e45317b",
   "metadata": {},
   "outputs": [
    {
     "data": {
      "text/plain": [
       "str"
      ]
     },
     "execution_count": 30,
     "metadata": {},
     "output_type": "execute_result"
    }
   ],
   "source": [
    "ii = 'True'\n",
    "type(ii)"
   ]
  },
  {
   "cell_type": "code",
   "execution_count": 32,
   "id": "b08fadcc-6ffb-49dd-9a32-b7c9baa02bf4",
   "metadata": {},
   "outputs": [],
   "source": [
    "# Nos exemplos acima, foram explorados os dados tipo bool, dados de lógica. A variável \"a\" já havia sido definida como a=1, logo afirmar que o valor numérico de a é 1 (a==1) é verdadeiro/True.\n",
    "# No exemplo, também foi feita a distinção entre True (variável bool) e \"True\", entre aspas, (variável de texto/string)."
   ]
  },
  {
   "cell_type": "markdown",
   "id": "7c9719ac-5f3c-470b-86b2-dd0cdf18fe1e",
   "metadata": {},
   "source": [
    "### Operação de comparação"
   ]
  },
  {
   "cell_type": "code",
   "execution_count": 36,
   "id": "a9773a11-6fdf-4648-ac55-5a581e7cb828",
   "metadata": {},
   "outputs": [
    {
     "data": {
      "text/plain": [
       "True"
      ]
     },
     "execution_count": 36,
     "metadata": {},
     "output_type": "execute_result"
    }
   ],
   "source": [
    "# Operação ==\n",
    "a==b\n",
    "# igual"
   ]
  },
  {
   "cell_type": "code",
   "execution_count": 38,
   "id": "a5c5399f-7f98-469e-a2ec-1469c71993ef",
   "metadata": {},
   "outputs": [
    {
     "data": {
      "text/plain": [
       "False"
      ]
     },
     "execution_count": 38,
     "metadata": {},
     "output_type": "execute_result"
    }
   ],
   "source": [
    "# Operação ><\n",
    "a>b\n",
    "# maior, menor"
   ]
  },
  {
   "cell_type": "code",
   "execution_count": 41,
   "id": "999ce566-45d7-452f-8a9e-52cab69f2898",
   "metadata": {},
   "outputs": [
    {
     "data": {
      "text/plain": [
       "False"
      ]
     },
     "execution_count": 41,
     "metadata": {},
     "output_type": "execute_result"
    }
   ],
   "source": [
    "# Operação !=\n",
    "a!=b\n",
    "# diferente"
   ]
  },
  {
   "cell_type": "code",
   "execution_count": 43,
   "id": "8c48c83e-df5e-478f-a71e-08068a9d6ef8",
   "metadata": {},
   "outputs": [
    {
     "data": {
      "text/plain": [
       "True"
      ]
     },
     "execution_count": 43,
     "metadata": {},
     "output_type": "execute_result"
    }
   ],
   "source": [
    "# Operação >= ou <=\n",
    "a>=b\n",
    "#maior/menor ou igual"
   ]
  },
  {
   "cell_type": "markdown",
   "id": "9a8d832b-484b-4883-8cf3-fd301b537f61",
   "metadata": {},
   "source": [
    "## Operações matemáticas"
   ]
  },
  {
   "cell_type": "code",
   "execution_count": 46,
   "id": "59babd29-13ca-4c51-959c-ba88fa62c2f3",
   "metadata": {},
   "outputs": [
    {
     "data": {
      "text/plain": [
       "2.0"
      ]
     },
     "execution_count": 46,
     "metadata": {},
     "output_type": "execute_result"
    }
   ],
   "source": [
    "# Soma \n",
    "a+b"
   ]
  },
  {
   "cell_type": "code",
   "execution_count": 48,
   "id": "a7492c76-01f2-4ccf-b58b-770ee340fc71",
   "metadata": {},
   "outputs": [
    {
     "name": "stdout",
     "output_type": "stream",
     "text": [
      "2.0\n"
     ]
    }
   ],
   "source": [
    "# Soma e atribui valor\n",
    "ab = a+b\n",
    "print(ab)\n",
    "#Aqui foi criada a variável ab para representar a soma de a e b."
   ]
  },
  {
   "cell_type": "code",
   "execution_count": 50,
   "id": "b7104dff-1ad3-46b1-8ca6-da4b4258024e",
   "metadata": {},
   "outputs": [
    {
     "name": "stdout",
     "output_type": "stream",
     "text": [
      "Não use l como nome de variável\n",
      "1.0\n"
     ]
    }
   ],
   "source": [
    "# Multiplicação\n",
    "l = a*b # Não use l como variável\n",
    "print(\"Não use l como nome de variável\")\n",
    "j = a*b\n",
    "print(j)"
   ]
  },
  {
   "cell_type": "code",
   "execution_count": 52,
   "id": "82c60e05-51e1-4411-a393-c416b14c1830",
   "metadata": {},
   "outputs": [
    {
     "data": {
      "text/plain": [
       "1.0"
      ]
     },
     "execution_count": 52,
     "metadata": {},
     "output_type": "execute_result"
    }
   ],
   "source": [
    "# Divisão\n",
    "a/b"
   ]
  },
  {
   "cell_type": "code",
   "execution_count": 54,
   "id": "b43341d8-3c64-428a-9336-38547bd75efd",
   "metadata": {},
   "outputs": [
    {
     "data": {
      "text/plain": [
       "25"
      ]
     },
     "execution_count": 54,
     "metadata": {},
     "output_type": "execute_result"
    }
   ],
   "source": [
    "# Potencia\n",
    "5**2"
   ]
  },
  {
   "cell_type": "code",
   "execution_count": 56,
   "id": "d3ec75c4-3f6a-4e94-aff6-0ac0001ddbe9",
   "metadata": {},
   "outputs": [
    {
     "data": {
      "text/plain": [
       "22026.465794806718"
      ]
     },
     "execution_count": 56,
     "metadata": {},
     "output_type": "execute_result"
    }
   ],
   "source": [
    "# Operações matemáticas com a bibliotéca math\n",
    "import math\n",
    "\n",
    "math.exp(10)\n",
    "# Aqui foi importada a biblioteca math. Para usar seus recursos, é preciso escrever \"math.recurso\"."
   ]
  },
  {
   "cell_type": "code",
   "execution_count": 58,
   "id": "511adb21-a9b7-4203-91cf-32502567af4f",
   "metadata": {},
   "outputs": [
    {
     "data": {
      "text/plain": [
       "1.0"
      ]
     },
     "execution_count": 58,
     "metadata": {},
     "output_type": "execute_result"
    }
   ],
   "source": [
    "math.exp(0)"
   ]
  },
  {
   "cell_type": "code",
   "execution_count": 60,
   "id": "f377bb78-2b07-40a9-a633-9096f15adb4d",
   "metadata": {},
   "outputs": [
    {
     "data": {
      "text/plain": [
       "2.718281828459045"
      ]
     },
     "execution_count": 60,
     "metadata": {},
     "output_type": "execute_result"
    }
   ],
   "source": [
    "math.exp(a)"
   ]
  },
  {
   "cell_type": "code",
   "execution_count": 62,
   "id": "556ed5c4-e8fe-47e2-b22b-5fbe6f3e4587",
   "metadata": {},
   "outputs": [
    {
     "data": {
      "text/plain": [
       "4.5399929762484854e-05"
      ]
     },
     "execution_count": 62,
     "metadata": {},
     "output_type": "execute_result"
    }
   ],
   "source": [
    "math.exp(-10)"
   ]
  },
  {
   "cell_type": "code",
   "execution_count": 64,
   "id": "dbbecc7c-9c1f-4ffb-bfd0-fed801b6e93f",
   "metadata": {},
   "outputs": [
    {
     "data": {
      "text/plain": [
       "0.0"
      ]
     },
     "execution_count": 64,
     "metadata": {},
     "output_type": "execute_result"
    }
   ],
   "source": [
    "import math as mt\n",
    "mt.log(c)\n",
    "# A biblioteca foi importada como no caso anterior, porém foi atribuído o nome mt. Portanto, para usá-la, é preciso escrever \"mt.função\"."
   ]
  },
  {
   "cell_type": "code",
   "execution_count": 66,
   "id": "6b34f896-a577-4221-8964-102b67ce52be",
   "metadata": {},
   "outputs": [
    {
     "data": {
      "text/plain": [
       "2.0"
      ]
     },
     "execution_count": 66,
     "metadata": {},
     "output_type": "execute_result"
    }
   ],
   "source": [
    "mt.log10(100)"
   ]
  },
  {
   "cell_type": "markdown",
   "id": "ff0e65b7-4d73-43dd-a659-bc949a8c5826",
   "metadata": {},
   "source": [
    "## Listas"
   ]
  },
  {
   "cell_type": "code",
   "execution_count": 69,
   "id": "c8fb3b76-59b0-4443-b2d8-78ea2accdb8e",
   "metadata": {},
   "outputs": [
    {
     "name": "stdout",
     "output_type": "stream",
     "text": [
      "[1, 2, 3]\n"
     ]
    }
   ],
   "source": [
    "myFirstList = [1,2,3]\n",
    "print(myFirstList)\n",
    "# Listas são como vetores, apresentados entre colchetes."
   ]
  },
  {
   "cell_type": "code",
   "execution_count": 71,
   "id": "de8ff66b-fc10-4b7f-9192-3305ff082ac7",
   "metadata": {},
   "outputs": [
    {
     "name": "stdout",
     "output_type": "stream",
     "text": [
      "1\n",
      "3\n"
     ]
    }
   ],
   "source": [
    "# Acessando valores da lista pelo index\n",
    "print(myFirstList[0])\n",
    "print(myFirstList[2])\n",
    "# Os itens de uma lista são dispostos sequencialmente: [0, 1, ..., n]. É possível acessar o enésimo item da lista como no exemplo: \n",
    "# NomeDaLista[index/posição do elemento]"
   ]
  },
  {
   "cell_type": "code",
   "execution_count": 73,
   "id": "49b80871-f06b-41ca-8e4d-212b82b12813",
   "metadata": {},
   "outputs": [
    {
     "data": {
      "text/plain": [
       "False"
      ]
     },
     "execution_count": 73,
     "metadata": {},
     "output_type": "execute_result"
    }
   ],
   "source": [
    "myFirstList==a"
   ]
  },
  {
   "cell_type": "code",
   "execution_count": 75,
   "id": "ccf9234c-42a0-4eb4-9c65-4aea956756b1",
   "metadata": {},
   "outputs": [
    {
     "data": {
      "text/plain": [
       "True"
      ]
     },
     "execution_count": 75,
     "metadata": {},
     "output_type": "execute_result"
    }
   ],
   "source": [
    "myFirstList[0]==a\n",
    "# O primeiro item da lista é igual à variável \"a\", definida anteriormente. "
   ]
  },
  {
   "cell_type": "code",
   "execution_count": 78,
   "id": "8e3c0c95-dc07-4fd6-ae06-952e0879ff07",
   "metadata": {},
   "outputs": [
    {
     "name": "stdout",
     "output_type": "stream",
     "text": [
      "[1, 1, 'c']\n"
     ]
    }
   ],
   "source": [
    "mySecList = [1,a,'c']\n",
    "print(mySecList)"
   ]
  },
  {
   "cell_type": "code",
   "execution_count": 80,
   "id": "106565e1-623a-4fd6-9d6b-38f4759b8e40",
   "metadata": {},
   "outputs": [
    {
     "data": {
      "text/plain": [
       "list"
      ]
     },
     "execution_count": 80,
     "metadata": {},
     "output_type": "execute_result"
    }
   ],
   "source": [
    "type(mySecList)"
   ]
  },
  {
   "cell_type": "code",
   "execution_count": 82,
   "id": "55a4b1ea-fcbb-42c1-820d-e8a0b912f8dd",
   "metadata": {},
   "outputs": [
    {
     "data": {
      "text/plain": [
       "str"
      ]
     },
     "execution_count": 82,
     "metadata": {},
     "output_type": "execute_result"
    }
   ],
   "source": [
    "type(mySecList[2])"
   ]
  },
  {
   "cell_type": "code",
   "execution_count": 84,
   "id": "e80b6b53-87d8-485e-82fd-58ecc81ad4ad",
   "metadata": {},
   "outputs": [
    {
     "data": {
      "text/plain": [
       "int"
      ]
     },
     "execution_count": 84,
     "metadata": {},
     "output_type": "execute_result"
    }
   ],
   "source": [
    "type(mySecList[1])"
   ]
  },
  {
   "cell_type": "markdown",
   "id": "bdd9487d-dd15-49e2-ac45-c35129aea39f",
   "metadata": {},
   "source": [
    "## Caminhos = path"
   ]
  },
  {
   "cell_type": "code",
   "execution_count": 14,
   "id": "2868a020-855d-430b-980d-c4a3483e87cb",
   "metadata": {},
   "outputs": [
    {
     "name": "stdout",
     "output_type": "stream",
     "text": [
      "C:\\Users\\Leonardo.Hoinaski\\Documents\\ENS410064_1\n"
     ]
    }
   ],
   "source": [
    "path = r\"C:\\Users\\Leonardo.Hoinaski\\Documents\\ENS410064_1\"\n",
    "print(path)"
   ]
  },
  {
   "cell_type": "code",
   "execution_count": 16,
   "id": "338fd32a-d7a7-45a4-a063-9d624fe723d7",
   "metadata": {},
   "outputs": [
    {
     "name": "stdout",
     "output_type": "stream",
     "text": [
      "C:/Users/Leonardo.Hoinaski/Documents/ENS410064_1\n"
     ]
    }
   ],
   "source": [
    "path = \"C:/Users/Leonardo.Hoinaski/Documents/ENS410064_1\"\n",
    "print(path)"
   ]
  },
  {
   "cell_type": "code",
   "execution_count": 21,
   "id": "1ee18978-f389-498b-a7a2-9e1980b22f93",
   "metadata": {},
   "outputs": [],
   "source": [
    "import os\n",
    "# Listar arquivos na pasta\n",
    "# os.listdir(path)\n",
    "# lista os arquivos da pasta"
   ]
  },
  {
   "cell_type": "code",
   "execution_count": null,
   "id": "386dac09-82d7-4978-ab02-ccf0733d564c",
   "metadata": {},
   "outputs": [],
   "source": [
    "# Selecionar primeiro arquivo listado\n",
    "# os.listdir(path)[0]"
   ]
  },
  {
   "cell_type": "code",
   "execution_count": 23,
   "id": "75cf20f6-7f08-4f0e-9c69-92f2705d8d5f",
   "metadata": {},
   "outputs": [],
   "source": [
    "# Concatenando caminhos\n",
    "# path+\"/\"+os.listdir(path)[0] \n",
    "# Vai imprimir path/primeiro item "
   ]
  },
  {
   "cell_type": "code",
   "execution_count": 25,
   "id": "826d0a62-5a71-41cc-a066-ac379aac7967",
   "metadata": {},
   "outputs": [],
   "source": [
    "# Listando caminho concatenado\n",
    "# os.listdir(path+\"/\"+os.listdir(path)[0])\n",
    "# A concatenação é a união de elementos (neste caso o caminho path e o 1° elemento da lista)\n",
    "# Nesse exemplo, vai imprimir uma lista dos arquivos da pasta \".git\""
   ]
  },
  {
   "cell_type": "code",
   "execution_count": 28,
   "id": "93265089-3df8-4a8a-a706-8bb5cc6fb763",
   "metadata": {},
   "outputs": [
    {
     "data": {
      "text/plain": [
       "'/home/2f263490-d72c-4651-993f-4fd00a2600b5'"
      ]
     },
     "execution_count": 28,
     "metadata": {},
     "output_type": "execute_result"
    }
   ],
   "source": [
    "# Diretório que estou trababalhando\n",
    "os.getcwd()"
   ]
  },
  {
   "cell_type": "code",
   "execution_count": 30,
   "id": "96566d9c-18c8-4ff9-9e2d-c2c567059259",
   "metadata": {},
   "outputs": [],
   "source": [
    "# Mudo de diretório para o caminho \n",
    "# os.chdir('C:\\\\Users\\\\Leonardo.Hoinaski\\\\Documents\\\\')"
   ]
  },
  {
   "cell_type": "code",
   "execution_count": 48,
   "id": "53f33fb5-d98a-4ccc-9208-c51360144c49",
   "metadata": {},
   "outputs": [
    {
     "name": "stdout",
     "output_type": "stream",
     "text": [
      "diretório já existe\n"
     ]
    },
    {
     "data": {
      "text/plain": [
       "'\\nFoi definido o caminho new_path como \"diretório que estou trabalhando\"/test\\nSe o diretório test já existisse, a saída seria \"diretório já existe\"\\nCaso contrário, seria usado o mkdir para criá-lo.\\n'"
      ]
     },
     "execution_count": 48,
     "metadata": {},
     "output_type": "execute_result"
    }
   ],
   "source": [
    "# Criando diretório\n",
    "new_path = os.getcwd()+'/test'\n",
    "\n",
    "if os.path.isdir(new_path):\n",
    "    print('diretório já existe')\n",
    "else:\n",
    "    print('Criando diretório '+new_path)\n",
    "    os.mkdir(new_path) \n",
    "    \n",
    "\"\"\"\n",
    "Foi definido o caminho new_path como \"diretório que estou trabalhando\"/test\n",
    "Se o diretório test já existisse, a saída seria \"diretório já existe\"\n",
    "Caso contrário, seria usado o mkdir para criá-lo.\n",
    "\"\"\""
   ]
  },
  {
   "cell_type": "code",
   "execution_count": null,
   "id": "f7fba2b2-a169-499a-b2d5-9b7c7ad459e4",
   "metadata": {},
   "outputs": [],
   "source": [
    "\"\"\"\n",
    "# Criando diretório\n",
    "new_path = os.getcwd()+'/test2'\n",
    "\n",
    "if os.path.isdir(new_path):\n",
    "    print('diretório já existe')\n",
    "    # Criando um arquivo de texto\n",
    "    with open(new_path+\"/copy.txt\", \"w\") as file:\n",
    "        file.write(\"Your text goes here\")\n",
    "else:\n",
    "    print('Criando diretório '+new_path)\n",
    "    os.mkdir(new_path)\n",
    "    with open(new_path+\"/copy.txt\", \"w\") as file:\n",
    "        file.write(\"Your text goes here\")\n",
    "\"\"\""
   ]
  },
  {
   "cell_type": "markdown",
   "id": "82b9785c-0d3e-4e1e-bb69-7a3f8c8c694e",
   "metadata": {},
   "source": [
    "## Numpy arrays e Pandas DataFrames\n"
   ]
  },
  {
   "cell_type": "code",
   "execution_count": 54,
   "id": "98240395-9494-4fed-8e97-f356b8caa744",
   "metadata": {},
   "outputs": [
    {
     "data": {
      "text/plain": [
       "numpy.ndarray"
      ]
     },
     "execution_count": 54,
     "metadata": {},
     "output_type": "execute_result"
    }
   ],
   "source": [
    "import numpy as np\n",
    "# Criando uma variável numpy\n",
    "n = np.array(0)\n",
    "type(n)"
   ]
  },
  {
   "cell_type": "code",
   "execution_count": 67,
   "id": "dea877b6-bdbf-4fea-8ec5-ce9993269065",
   "metadata": {},
   "outputs": [
    {
     "name": "stdout",
     "output_type": "stream",
     "text": [
      "[ 1  2  3 10 20 55]\n"
     ]
    }
   ],
   "source": [
    "# Criando uma variável numpy a partir de uma lista\n",
    "myThirdList=[1,2,3,10,20,55]\n",
    "n = np.array(myThirdList)\n",
    "print(n)\n",
    "# foi criada uma lista, a qual foi armazenada na variável n, um array, com o auxílio da biblioteca numpy."
   ]
  },
  {
   "cell_type": "code",
   "execution_count": 208,
   "id": "0b2a7f9b-39b3-4448-acc1-afe0ef0cb266",
   "metadata": {},
   "outputs": [
    {
     "name": "stdout",
     "output_type": "stream",
     "text": [
      "[[0.10363052 0.0305267  0.20698301 0.05790364 0.564593   0.30495746\n",
      "  0.23253499 0.86051853 0.14983506 0.36793227]\n",
      " [0.04316712 0.42724643 0.44159897 0.9635555  0.86536513 0.35199351\n",
      "  0.11682371 0.86179341 0.22672133 0.93578898]\n",
      " [0.99190183 0.77463728 0.18437478 0.82132744 0.65662268 0.37654773\n",
      "  0.23438368 0.85941857 0.92511088 0.76667614]\n",
      " [0.72854639 0.57054161 0.30242775 0.41387129 0.09988509 0.54151097\n",
      "  0.45308753 0.83431622 0.92966894 0.63086013]\n",
      " [0.09615511 0.58982827 0.26591397 0.12903801 0.52699193 0.97110211\n",
      "  0.84965994 0.07314664 0.89899495 0.75489853]\n",
      " [0.11719153 0.51564762 0.31025044 0.3328     0.21385791 0.76908437\n",
      "  0.95845479 0.07468885 0.46290841 0.18334422]\n",
      " [0.2412452  0.18323752 0.13773617 0.24958919 0.40732329 0.03992051\n",
      "  0.12207378 0.70617865 0.95432841 0.57192057]\n",
      " [0.41715992 0.43042743 0.87098858 0.00880762 0.22411651 0.06240835\n",
      "  0.28469302 0.87519727 0.81091206 0.02792653]\n",
      " [0.25893693 0.6689368  0.73474592 0.95180351 0.11201421 0.05557235\n",
      "  0.55067933 0.24262314 0.73463098 0.31387851]\n",
      " [0.11662439 0.69607189 0.95315283 0.29434533 0.03102987 0.50796509\n",
      "  0.19514707 0.3234979  0.29311706 0.65286128]]\n",
      "\n",
      " (10, 10)\n"
     ]
    }
   ],
   "source": [
    "# Criando uma matriz de 10x10 de números aleatórios entre 0 e 1\n",
    "n = np.random.rand(10,10) # OBS: estamos sempre usando os recursos da biblioteca numpy\n",
    "print(n)\n",
    "# Dimensões da matrix\n",
    "print(\"\\n\", n.shape)"
   ]
  },
  {
   "cell_type": "code",
   "execution_count": 210,
   "id": "8a436874-6f03-4de8-95be-19737707f0c8",
   "metadata": {},
   "outputs": [
    {
     "data": {
      "text/plain": [
       "array([0.10363052, 0.0305267 , 0.20698301, 0.05790364, 0.564593  ,\n",
       "       0.30495746, 0.23253499, 0.86051853, 0.14983506, 0.36793227])"
      ]
     },
     "execution_count": 210,
     "metadata": {},
     "output_type": "execute_result"
    }
   ],
   "source": [
    "# Acessando valores da matriz\n",
    "n[0,:]  #Acessa todos os elementos da primeira linha "
   ]
  },
  {
   "cell_type": "code",
   "execution_count": 212,
   "id": "0804b48c-91e9-40e1-ae94-e42f9505a1ce",
   "metadata": {},
   "outputs": [
    {
     "data": {
      "text/plain": [
       "array([[0.0305267 , 0.20698301, 0.05790364, 0.564593  ],\n",
       "       [0.42724643, 0.44159897, 0.9635555 , 0.86536513],\n",
       "       [0.77463728, 0.18437478, 0.82132744, 0.65662268],\n",
       "       [0.57054161, 0.30242775, 0.41387129, 0.09988509],\n",
       "       [0.58982827, 0.26591397, 0.12903801, 0.52699193],\n",
       "       [0.51564762, 0.31025044, 0.3328    , 0.21385791],\n",
       "       [0.18323752, 0.13773617, 0.24958919, 0.40732329],\n",
       "       [0.43042743, 0.87098858, 0.00880762, 0.22411651],\n",
       "       [0.6689368 , 0.73474592, 0.95180351, 0.11201421],\n",
       "       [0.69607189, 0.95315283, 0.29434533, 0.03102987]])"
      ]
     },
     "execution_count": 212,
     "metadata": {},
     "output_type": "execute_result"
    }
   ],
   "source": [
    "n[:,1:5] #Acessa todas as linhas, das colunas 1 a 4"
   ]
  },
  {
   "cell_type": "code",
   "execution_count": 214,
   "id": "328ba477-96b3-439d-8fe8-9ecdeb4fb18c",
   "metadata": {},
   "outputs": [
    {
     "data": {
      "text/plain": [
       "array([0.0305267 , 0.20698301, 0.05790364, 0.564593  ])"
      ]
     },
     "execution_count": 214,
     "metadata": {},
     "output_type": "execute_result"
    }
   ],
   "source": [
    "n[0,1:5] #acessa, na primeira linha, os elementos das colunas 1 a 4"
   ]
  },
  {
   "cell_type": "code",
   "execution_count": 217,
   "id": "efd4e978-0172-4a53-a49b-f8bcdf3938bb",
   "metadata": {},
   "outputs": [
    {
     "data": {
      "text/plain": [
       "0.36793226722627037"
      ]
     },
     "execution_count": 217,
     "metadata": {},
     "output_type": "execute_result"
    }
   ],
   "source": [
    "n[0,-1] # acessa o último elemento da primeira linha "
   ]
  },
  {
   "cell_type": "code",
   "execution_count": 219,
   "id": "e374cef3-1133-4b6c-9604-eb09bf286c1a",
   "metadata": {},
   "outputs": [
    {
     "name": "stdout",
     "output_type": "stream",
     "text": [
      "[[-0.65748546 -1.87971566  0.03431934 -1.23953711  1.03778775  0.42185491\n",
      "   0.15072336  1.45921778 -0.28878225  0.6095815 ]\n",
      " [-1.53323837  0.75904359  0.79208479  1.57231273  1.46483417  0.56529538\n",
      "  -0.53765135  1.46069821  0.12540429  1.54307263]\n",
      " [ 1.60130678  1.35407753 -0.08134684  1.41260449  1.18879218  0.63272745\n",
      "   0.15864205  1.45793871  1.53159624  1.34374711]\n",
      " [ 1.29273393  1.04826873  0.41352505  0.72723767 -0.69429698  0.99604596\n",
      "   0.81776796  1.42829512  1.53651118  1.1487668 ]\n",
      " [-0.73235478  1.08151407  0.28485546 -0.43821038  0.96886787  1.58011426\n",
      "   1.44651883 -1.00585112  1.50296005  1.32826597]\n",
      " [-0.53450775  0.94710626  0.43906247  0.50922433  0.06699444  1.34688331\n",
      "   1.56700503 -0.9849865   0.83921185 -0.086952  ]\n",
      " [ 0.18749647 -0.08753416 -0.37297729  0.22149896  0.71128982 -1.61142722\n",
      "  -0.49369172  1.26155088  1.56269049  1.05068275]\n",
      " [ 0.73515227  0.76646136  1.4713115  -3.12269958  0.11384868 -1.16461833\n",
      "   0.3530941   1.47613195  1.39984225 -1.96874017]\n",
      " [ 0.25826715  1.20737223  1.30120738  1.56004125 -0.5796916  -1.28063158\n",
      "   1.0128353   0.193192    1.30105094  0.45068864]\n",
      " [-0.53935895  1.24713558  1.56145789  0.38643632 -1.86336695  0.93209535\n",
      "  -0.02456391  0.48087524  0.38225468  1.1830473 ]]\n"
     ]
    }
   ],
   "source": [
    "an = np.log(n*5)\n",
    "print(an)"
   ]
  },
  {
   "cell_type": "code",
   "execution_count": 233,
   "id": "09b68b85-d4b0-4a4b-9239-21b2b0bd4478",
   "metadata": {},
   "outputs": [
    {
     "name": "stdout",
     "output_type": "stream",
     "text": [
      "-0.66   -1.88   0.03    -1.24   1.04    0.42    0.15    1.46    -0.29   0.61    \n",
      "-1.53   0.76    0.79    1.57    1.46    0.57    -0.54   1.46    0.13    1.54    \n",
      "1.60    1.35    -0.08   1.41    1.19    0.63    0.16    1.46    1.53    1.34    \n",
      "1.29    1.05    0.41    0.73    -0.69   1.00    0.82    1.43    1.54    1.15    \n",
      "-0.73   1.08    0.28    -0.44   0.97    1.58    1.45    -1.01   1.50    1.33    \n",
      "-0.53   0.95    0.44    0.51    0.07    1.35    1.57    -0.98   0.84    -0.09   \n",
      "0.19    -0.09   -0.37   0.22    0.71    -1.61   -0.49   1.26    1.56    1.05    \n",
      "0.74    0.77    1.47    -3.12   0.11    -1.16   0.35    1.48    1.40    -1.97   \n",
      "0.26    1.21    1.30    1.56    -0.58   -1.28   1.01    0.19    1.30    0.45    \n",
      "-0.54   1.25    1.56    0.39    -1.86   0.93    -0.02   0.48    0.38    1.18    \n",
      "None\n"
     ]
    }
   ],
   "source": [
    "\n",
    "def imprime_matriz(matriz):\n",
    "    for linha in matriz:\n",
    "        for elemento in linha:\n",
    "            print(f\"{elemento:7}\", end=\" \")  # Formatação com 7 espaços\n",
    "        print()  # Pula para a próxima linha\n",
    "\n",
    "m = ([f\"{elemento:.2f}\" for elemento in linha] for linha in an) # limita para duas casas decimais\n",
    "print(imprime_matriz(m))"
   ]
  }
 ],
 "metadata": {
  "kernelspec": {
   "display_name": "anaconda-panel-2023.05-py310",
   "language": "python",
   "name": "conda-env-anaconda-panel-2023.05-py310-py"
  },
  "language_info": {
   "codemirror_mode": {
    "name": "ipython",
    "version": 3
   },
   "file_extension": ".py",
   "mimetype": "text/x-python",
   "name": "python",
   "nbconvert_exporter": "python",
   "pygments_lexer": "ipython3",
   "version": "3.11.5"
  }
 },
 "nbformat": 4,
 "nbformat_minor": 5
}
